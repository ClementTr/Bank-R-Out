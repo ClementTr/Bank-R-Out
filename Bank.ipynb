{
 "cells": [
  {
   "cell_type": "markdown",
   "metadata": {
    "deletable": true,
    "editable": true
   },
   "source": [
    "<p><font color = \"darkred\" size = 4><center><b>BANK - BUILD TYPOLOGIES</b></center></font><p>\n",
    "<br>\n",
    "<font color = \"darkblue\" size = 5>Summary</font>\n",
    "<p><font color = \"darkblue\">\n",
    "1. Load data \n",
    "2. Summarize the data structure using a numerical table (for numeric variables, use mean / standard deviation and extent, for categorical variables, use effective / proportion).<br>\n",
    "3. Recode the age and income variables into three interval classes ({0-34, 35-51, 52-67} and {0-24386, 24387-43758, 43759-63130}, respectively) and ensure that the variables are treated as they are.<br>\n",
    "4. Provide a list of 10 rules based on income by considering a minimum support of 0.1 and a value of lij ≥ 1.5.<br>\n",
    "5. Use an automatic classification procedure coupled with a principal component analysis (all variables must be recorded in numerical variables) to construct a typology of individuals.\n",
    "</font></p>\n",
    "<br>\n",
    "<p><font color = \"darkblue\" size = 5>1. Load Data</font></p>\n",
    "<p><font color = \"darkblue\">The first thing we have to do is to load our data placed in bank-data.txt file in our main repository.<br>\n",
    "The bank-data.txt file is nothing else that a file we copied and then past from a website having our data.<br>\n",
    "But before the begining, let's just install all our needed packages.\n",
    "</font></p>"
   ]
  },
  {
   "cell_type": "code",
   "execution_count": null,
   "metadata": {
    "collapsed": false,
    "deletable": true,
    "editable": true
   },
   "outputs": [],
   "source": [
    "install.packages(c(\"arules\",\"arulesViz\"))"
   ]
  },
  {
   "cell_type": "code",
   "execution_count": null,
   "metadata": {
    "collapsed": false,
    "deletable": true,
    "editable": true
   },
   "outputs": [],
   "source": [
    "bank = read.csv(\"bank-data.txt\", encoding=\"UTF-8\", sep = \",\")\n",
    "print(dim(bank))\n",
    "head(bank, n = 5)"
   ]
  },
  {
   "cell_type": "markdown",
   "metadata": {
    "deletable": true,
    "editable": true
   },
   "source": [
    "<p><font color = \"darkblue\" size = 5>2. Summarize data structure</font><p>\n",
    "<p><font color = \"darkblue\">\n",
    "Before summarize our data structure let's just see all of our main columns and what they contain using the table function.\n",
    "</font></p>"
   ]
  },
  {
   "cell_type": "code",
   "execution_count": null,
   "metadata": {
    "collapsed": false,
    "deletable": true,
    "editable": true
   },
   "outputs": [],
   "source": [
    "table(bank$Sex)\n",
    "table(bank$Region)\n",
    "table(bank$Married)\n",
    "table(bank$Car)\n",
    "table(bank$Save_acct)\n",
    "table(bank$Current_acct)\n",
    "table(bank$Mortgage)\n",
    "table(bank$Pep)"
   ]
  },
  {
   "cell_type": "markdown",
   "metadata": {
    "deletable": true,
    "editable": true
   },
   "source": [
    "<p><font color = \"darkblue\">\n",
    "We create a function which calculate proportion in dataframe because we will need to calculate 11 times column proportion.<br>\n",
    "Then we will just create our table (which is actually a matrix) showing our main information. \n",
    "</font></p>"
   ]
  },
  {
   "cell_type": "code",
   "execution_count": null,
   "metadata": {
    "collapsed": false,
    "deletable": true,
    "editable": true
   },
   "outputs": [],
   "source": [
    "## Example of setting row and column names\n",
    "prop = function(word, data){\n",
    "    return(round(length(grep(word, data))/nrow(bank), 2));\n",
    "}\n",
    "\n",
    "data_mean_sd_prop = c(mean(bank$Age), mean(bank$Income), mean(bank$Children), NA, NA, NA, NA, NA, NA, NA, NA, NA, NA, NA, #MEAN\n",
    "                 sd(bank$Age), sd(bank$Income), sd(bank$Children), NA, NA, NA, NA, NA, NA, NA, NA, NA, NA, NA, #SD\n",
    "                 NA, NA, NA, prop(\"FEMALE\", bank$Sex), prop(\"INNER_CITY\", bank$Region), prop(\"RURAL\", bank$Region),  \n",
    "                        prop(\"SUBURBAN\", bank$Region), prop(\"TOWN\", bank$Region), prop(\"YES\", bank$Married), \n",
    "                        prop(\"YES\", bank$Car), prop(\"YES\", bank$Save_acct), prop(\"YES\", bank$Current_acct),\n",
    "                        prop(\"YES\", bank$Mortgage), prop(\"YES\", bank$Pep)#Proportion\n",
    "                )\n",
    "\n",
    "mdata_all <- matrix(data_mean_sd_prop, nrow = 3, ncol = 14, byrow = TRUE,\n",
    "               dimnames = list(c(\"Mean\", \"Standard Deviation\", \"Proportion\"),\n",
    "                               c(\"Age\", \"Income\", \"Children\", \"Female\", \n",
    "                                     \"Inner City\", \"Rural\", \"Suburban\", \"Town\", \"Married\", \n",
    "                                      \"Car\", \"Save Acct\", \"Current Acct\", \"Mortgage\", \"Pep\")))\n",
    "\n",
    "mdata_all"
   ]
  },
  {
   "cell_type": "markdown",
   "metadata": {
    "deletable": true,
    "editable": true
   },
   "source": [
    "<p><font color = \"darkblue\">\n",
    "Obvioulsy it is also possible to create two distincts table representing either Mean and Standard Deviation or Proportion according to our columns. \n",
    "</font></p>"
   ]
  },
  {
   "cell_type": "code",
   "execution_count": null,
   "metadata": {
    "collapsed": false,
    "deletable": true,
    "editable": true
   },
   "outputs": [],
   "source": [
    "data_mean_sd = c(mean(bank$Age), mean(bank$Income), mean(bank$Children),\n",
    "                 sd(bank$Age), sd(bank$Income), sd(bank$Children))\n",
    "\n",
    "mdata_mean_sd <- matrix(data_mean_sd, nrow = 2, ncol = 3, byrow = TRUE,\n",
    "               dimnames = list(c(\"Mean\", \"Standard Deviation\"),\n",
    "                               c(\"Age\", \"Income\", \"Children\")))\n",
    "\n",
    "mdata_mean_sd\n",
    "\n",
    "\n",
    "data_prop = c(prop(\"FEMALE\", bank$Sex), prop(\"INNER_CITY\", bank$Region), prop(\"RURAL\", bank$Region),  \n",
    "                        prop(\"SUBURBAN\", bank$Region), prop(\"TOWN\", bank$Region), prop(\"YES\", bank$Married), \n",
    "                        prop(\"YES\", bank$Car), prop(\"YES\", bank$Save_acct), prop(\"YES\", bank$Current_acct),\n",
    "                        prop(\"YES\", bank$Mortgage), prop(\"YES\", bank$Pep)\n",
    "                )\n",
    "\n",
    "mdata_prop <- matrix(data_prop, nrow = 1, ncol = 11, byrow = TRUE,\n",
    "               dimnames = list(c(\"Proportion\"),\n",
    "                               c(\"Female\",\"Inner City\", \"Rural\", \"Suburban\", \"Town\", \"Married\", \n",
    "                                \"Car\", \"Save Acct\", \"Current Acct\", \"Mortgage\", \"Pep\")))\n",
    "\n",
    "mdata_prop"
   ]
  },
  {
   "cell_type": "markdown",
   "metadata": {
    "deletable": true,
    "editable": true
   },
   "source": [
    "<p><font color = \"darkblue\" size = 5>3. Recode Variables</font><p>\n",
    "<p><font color = \"darkblue\">\n",
    "The next step will be to create new columns depending of Age and Income that we will name X_inter. Those columns will contain 3 values in order to group different ages or incomes into 3 categories. <br>\n",
    "<u>Age:</u> Young / Senior / Old <br>\n",
    "<u>Income:</u> Poor / Median / Rich <br>\n",
    "In order to have a better vision of our columns we will simply display minimum mean max ect. of each using summary function.<br>\n",
    "Finally we will display our two new columns in order to show what we did.\n",
    "</font></p>"
   ]
  },
  {
   "cell_type": "code",
   "execution_count": null,
   "metadata": {
    "collapsed": false,
    "deletable": true,
    "editable": true
   },
   "outputs": [],
   "source": [
    "summary(bank$Age)\n",
    "bank$Age_inter = \"Young\"\n",
    "bank$Age_inter[bank$Age > 35 & bank$Age <= 51] = \"Senior\"\n",
    "bank$Age_inter[bank$Age > 52 & bank$Age <= 67] = \"Old\"\n",
    "bank$Age_inter = as.factor(bank$Age_inter)"
   ]
  },
  {
   "cell_type": "code",
   "execution_count": null,
   "metadata": {
    "collapsed": false,
    "deletable": true,
    "editable": true
   },
   "outputs": [],
   "source": [
    "summary(bank$Income)\n",
    "bank$Income_inter = \"Poor\"\n",
    "bank$Income_inter[bank$Income > 24387 & bank$Income <= 43758] = \"Median\"\n",
    "bank$Income_inter[bank$Income > 43759 & bank$Income <= 63130] = \"Rich\"\n",
    "bank$Income_inter = as.factor(bank$Income_inter)\n",
    "head(bank, n=10)"
   ]
  },
  {
   "cell_type": "markdown",
   "metadata": {
    "deletable": true,
    "editable": true
   },
   "source": [
    "<p><font color = \"darkblue\" size = 5>4. Build rules about Incomes</font><p>\n",
    "<p><font color = \"darkblue\">\n",
    "The first thing you'll see here is that we called our libraries from the packages we insatalled earlier in the first cell.<br>\n",
    "Then we choose the columns we want to use for our work in a vector called \"keeps\" stand for columns kept.<br>\n",
    "Finally we created using those columns a 'transactions' type called myBank which will be essential in the next steps.\n",
    "</font></p>"
   ]
  },
  {
   "cell_type": "code",
   "execution_count": null,
   "metadata": {
    "collapsed": false,
    "deletable": true,
    "editable": true
   },
   "outputs": [],
   "source": [
    "library(\"arules\");\n",
    "library(\"arulesViz\");\n",
    "\n",
    "keeps <- c(\"Sex\", \"Region\", \"Married\", \"Car\", \"Save_acct\",\"Current_acct\",\"Mortgage\",\"Pep\", \"Age_inter\", \"Income_inter\")\n",
    "subBank <- bank[keeps]\n",
    "\n",
    "myBank <- as(subBank, \"transactions\");"
   ]
  },
  {
   "cell_type": "markdown",
   "metadata": {
    "deletable": true,
    "editable": true
   },
   "source": [
    "<p><font color = \"darkblue\">\n",
    "Now that all our packages are loaded and we have our transaction variable declared, let's create the rule we are looking for. <br>\n",
    "To do that we created a rule having as asked a support of 0.1. <br>\n",
    "Next we created a sub rules inheriting of the first having as parameters lift >= 1.5 and depending of the column 'Income_inter'. <br>\n",
    "To make all of that more meaningful, we ordered it by confidence and decided to show only five rules because there were not 10 with this lift parameter.\n",
    "</font></p>"
   ]
  },
  {
   "cell_type": "code",
   "execution_count": null,
   "metadata": {
    "collapsed": false,
    "deletable": true,
    "editable": true
   },
   "outputs": [],
   "source": [
    "## Mine rules.\n",
    "rules <- apriori(myBank, parameter = list(support = 0.1))\n",
    "\n",
    "## Select a subset of rules using partial matching on the items\n",
    "## in the right-hand-side and a quality measure with output income_inter and lift >=1.5\n",
    "number_rules = 5\n",
    "rules.sub <- subset(rules, subset = lift >= 1.5 & rhs %pin% \"Income_inter=\")[1:number_rules]\n",
    "\n",
    "## Display rules ordered by confidence\n",
    "inspect(head(rules.sub, by = \"confidence\"))"
   ]
  },
  {
   "cell_type": "markdown",
   "metadata": {
    "deletable": true,
    "editable": true
   },
   "source": [
    "<p><font color = \"darkblue\">As you can see, rules show that the most of young people having no action are poor, then young people having mortage are also poor, then that young people living in inner city are poor etc.</font><p>\n",
    "<br>\n",
    "<p><font color = \"darkblue\" size = 5>5. Construct a typology of individuals</font><p>\n",
    "<p><font color = \"darkblue\">\n",
    "So here we are ! The final step of our work ! <br>\n",
    "First thing we decided to do was to use the eclat algorithm rather than the apriori algorithm.\n",
    "</font></p>"
   ]
  },
  {
   "cell_type": "code",
   "execution_count": null,
   "metadata": {
    "collapsed": false,
    "deletable": true,
    "editable": true
   },
   "outputs": [],
   "source": [
    "itemFrequencyPlot(myBank, support = 0.1, cex.names=0.8);\n",
    "fsets = eclat(myBank, parameter = list(support = 0.1), control = list(verbose=FALSE));\n",
    "singleItems = fsets[size(items(fsets)) == 1];\n",
    "singleSupport = quality(singleItems)$support;\n",
    "names(singleSupport) = unlist(LIST(items(singleItems), decode = FALSE));\n",
    "head(singleSupport, n = 5);\n",
    "itemsetList = LIST(items(fsets), decode = FALSE);\n",
    "allConfidence = quality(fsets)$support / sapply(itemsetList, function(x)\n",
    "max(singleSupport[as.character(x)]));\n",
    "quality(fsets) = cbind(quality(fsets), allConfidence);"
   ]
  },
  {
   "cell_type": "markdown",
   "metadata": {
    "deletable": true,
    "editable": true
   },
   "source": [
    "<p><font color = \"darkblue\">\n",
    "Once again, using the eclat function we are able to create typologies. In our example we selected minimum attribut length of 2 in order to really have associations like we did in TD for shopping.<br>\n",
    "So we selected the 30 most relevent association according to the support and display it.\n",
    "</font></p>"
   ]
  },
  {
   "cell_type": "code",
   "execution_count": null,
   "metadata": {
    "collapsed": false,
    "deletable": true,
    "editable": true
   },
   "outputs": [],
   "source": [
    "#### Associations Rule ####\n",
    "\n",
    "itemsets <- eclat(myBank, parameter = list(minlen = 2, tidLists = TRUE)) #Dont take maxlen the more item there will be the best its gonna be\n",
    "summary(itemsets)\n",
    "fsets.top30 <- sort(itemsets)[1:30]\n",
    "inspect(fsets.top30)"
   ]
  },
  {
   "cell_type": "markdown",
   "metadata": {
    "deletable": true,
    "editable": true
   },
   "source": [
    "<p><font color = \"darkblue\" size = 5>6. Go ahead</font><p>\n",
    "<p><font color = \"darkblue\">\n",
    "As the question 5 was free enough we decided to build different kind of graphics using 'arules' and 'arulesViz' functions/tools in order to display different kind of typologies in the last part of our work.<br>\n",
    "To improve our visualization we played with some others functions of our libraries !<br><br>\n",
    "So let's for example create a cross table !\n",
    "</font></p>"
   ]
  },
  {
   "cell_type": "code",
   "execution_count": null,
   "metadata": {
    "collapsed": false,
    "deletable": true,
    "editable": true
   },
   "outputs": [],
   "source": [
    "size_matrice = 3\n",
    "lift <- crossTable(myBank, measure=\"lift\", sort=TRUE)\n",
    "lift[1:size_matrice,1:size_matrice]"
   ]
  },
  {
   "cell_type": "markdown",
   "metadata": {
    "deletable": true,
    "editable": true
   },
   "source": [
    "<p><font color = \"darkblue\">\n",
    "...and a cluster dendrogram !\n",
    "</font></p>"
   ]
  },
  {
   "cell_type": "code",
   "execution_count": null,
   "metadata": {
    "collapsed": false,
    "deletable": true,
    "editable": true
   },
   "outputs": [],
   "source": [
    "s <- myBank[,itemFrequency(myBank)>0.05]\n",
    "    d_jaccard <- dissimilarity(s, which = \"items\")\n",
    "    plot(hclust(d_jaccard, method = \"ward.D2\"))"
   ]
  },
  {
   "cell_type": "markdown",
   "metadata": {
    "deletable": true,
    "editable": true
   },
   "source": [
    "<p><font color = \"darkblue\">\n",
    "The following example compares the item frequencies of people with a large income (boxes) with the average in the data set.\n",
    "</font></p>"
   ]
  },
  {
   "cell_type": "code",
   "execution_count": null,
   "metadata": {
    "collapsed": false,
    "deletable": true,
    "editable": true
   },
   "outputs": [],
   "source": [
    "myBank.largeIncome <- myBank[myBank %in% \"Income_inter=Rich\"]\n",
    "itemFrequencyPlot(myBank.largeIncome[, 1:10], population = myBank[, 1:10])"
   ]
  },
  {
   "cell_type": "markdown",
   "metadata": {
    "deletable": true,
    "editable": true
   },
   "source": [
    "<p><font color = \"darkblue\">\n",
    "Thank you for watching, I hope it was interesting and meaningful. <br>\n",
    "Have a good day !\n",
    "</font></p>"
   ]
  }
 ],
 "metadata": {
  "anaconda-cloud": {},
  "kernelspec": {
   "display_name": "R 3.3",
   "language": "R",
   "name": "ir33"
  },
  "language_info": {
   "codemirror_mode": "r",
   "file_extension": ".r",
   "mimetype": "text/x-r-source",
   "name": "R",
   "pygments_lexer": "r",
   "version": "3.3.2"
  }
 },
 "nbformat": 4,
 "nbformat_minor": 1
}
